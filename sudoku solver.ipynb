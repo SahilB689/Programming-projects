{
 "cells": [
  {
   "cell_type": "code",
   "execution_count": 9,
   "id": "0afe9c96",
   "metadata": {},
   "outputs": [],
   "source": [
    "from collections import defaultdict\n",
    "\n",
    "def solveSudoku(board):\n",
    "\n",
    "    def could_place(d, row, col): \n",
    "        return not (d in rows[row] or d in columns[col] or \\\n",
    "                d in boxes[box_index(row, col)])\n",
    "\n",
    "    def place_number(d, row, col):\n",
    "\n",
    "        rows[row][d] += 1\n",
    "        columns[col][d] += 1\n",
    "        boxes[box_index(row, col)][d] += 1\n",
    "        board[row][col] = str(d)\n",
    "\n",
    "    def remove_number(d, row, col):\n",
    "\n",
    "        del rows[row][d]\n",
    "        del columns[col][d]\n",
    "        del boxes[box_index(row, col)][d]\n",
    "        board[row][col] = '.'    \n",
    "\n",
    "    def place_next_numbers(row, col):\n",
    "\n",
    "        if col == N - 1 and row == N - 1:\n",
    "            nonlocal sudoku_solved\n",
    "            sudoku_solved = True \n",
    "        else: \n",
    "            if col == N - 1:\n",
    "                backtrack(row + 1, 0) \n",
    "            else:\n",
    "                backtrack(row, col + 1)\n",
    "\n",
    "\n",
    "    def backtrack(row = 0, col = 0):\n",
    "\n",
    "        if board[row][col] == '.': \n",
    "            for d in range(1, 10):\n",
    "                if could_place(d, row, col):\n",
    "                    place_number(d, row, col)\n",
    "                    place_next_numbers(row, col) \n",
    "                    if not sudoku_solved:\n",
    "                        remove_number(d, row, col)\n",
    "        else:\n",
    "            place_next_numbers(row, col)\n",
    "\n",
    "    n = 3 \n",
    "    N = n * n \n",
    "    box_index = lambda row, col: (row // n ) * n + col // n\n",
    "\n",
    "    rows = [defaultdict(int) for i in range(N)]\n",
    "    columns = [defaultdict(int) for i in range(N)]\n",
    "    boxes = [defaultdict(int) for i in range(N)]\n",
    "    for i in range(N):\n",
    "        for j in range(N):\n",
    "            if board[i][j] != '.': \n",
    "                d = int(board[i][j])\n",
    "                place_number(d, i, j)\n",
    "\n",
    "    sudoku_solved = False\n",
    "    backtrack()\n",
    "\n",
    "board = [[\"5\",\"3\",\".\",\".\",\"7\",\".\",\".\",\".\",\".\"],\n",
    "         [\"6\",\".\",\".\",\"1\",\"9\",\"5\",\".\",\".\",\".\"],\n",
    "         [\".\",\"9\",\"8\",\".\",\".\",\".\",\".\",\"6\",\".\"],\n",
    "         [\"8\",\".\",\".\",\".\",\"6\",\".\",\".\",\".\",\"3\"],\n",
    "         [\"4\",\".\",\".\",\"8\",\".\",\"3\",\".\",\".\",\"1\"],\n",
    "         [\"7\",\".\",\".\",\".\",\"2\",\".\",\".\",\".\",\"6\"],\n",
    "         [\".\",\"6\",\".\",\".\",\".\",\".\",\"2\",\"8\",\".\"],\n",
    "         [\".\",\".\",\".\",\"4\",\"1\",\"9\",\".\",\".\",\"5\"],\n",
    "         [\".\",\".\",\".\",\".\",\"8\",\".\",\".\",\"7\",\"9\"]]\n",
    " "
   ]
  },
  {
   "cell_type": "code",
   "execution_count": 10,
   "id": "d27ee231",
   "metadata": {},
   "outputs": [
    {
     "data": {
      "text/plain": [
       "[['5', '3', '4', '6', '7', '8', '9', '1', '2'],\n",
       " ['6', '7', '2', '1', '9', '5', '3', '4', '8'],\n",
       " ['1', '9', '8', '3', '4', '2', '5', '6', '7'],\n",
       " ['8', '5', '9', '7', '6', '1', '4', '2', '3'],\n",
       " ['4', '2', '6', '8', '5', '3', '7', '9', '1'],\n",
       " ['7', '1', '3', '9', '2', '4', '8', '5', '6'],\n",
       " ['9', '6', '1', '5', '3', '7', '2', '8', '4'],\n",
       " ['2', '8', '7', '4', '1', '9', '6', '3', '5'],\n",
       " ['3', '4', '5', '2', '8', '6', '1', '7', '9']]"
      ]
     },
     "execution_count": 10,
     "metadata": {},
     "output_type": "execute_result"
    }
   ],
   "source": [
    "solveSudoku(board)\n",
    "board"
   ]
  },
  {
   "cell_type": "code",
   "execution_count": null,
   "id": "1314f025",
   "metadata": {},
   "outputs": [],
   "source": []
  }
 ],
 "metadata": {
  "kernelspec": {
   "display_name": "Python 3 (ipykernel)",
   "language": "python",
   "name": "python3"
  },
  "language_info": {
   "codemirror_mode": {
    "name": "ipython",
    "version": 3
   },
   "file_extension": ".py",
   "mimetype": "text/x-python",
   "name": "python",
   "nbconvert_exporter": "python",
   "pygments_lexer": "ipython3",
   "version": "3.9.12"
  }
 },
 "nbformat": 4,
 "nbformat_minor": 5
}
